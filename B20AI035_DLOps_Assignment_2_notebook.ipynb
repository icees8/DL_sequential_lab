{
 "cells": [
  {
   "attachments": {},
   "cell_type": "markdown",
   "metadata": {},
   "source": [
    "# Importing Libraries"
   ]
  },
  {
   "cell_type": "code",
   "execution_count": 97,
   "metadata": {},
   "outputs": [],
   "source": [
    "import pandas as pd\n",
    "import numpy as np\n",
    "\n",
    "import torch\n",
    "import torch.nn as nn\n",
    "import torch.nn.functional as F\n",
    "\n",
    "from tqdm import tqdm\n",
    "import matplotlib.pyplot as plt\n",
    "\n",
    "import seaborn as sns\n",
    "\n",
    "sns.set_style(\"whitegrid\")\n",
    "sns.set_context(\"paper\", font_scale=1.5, rc={\"lines.linewidth\": 2.5})\n",
    "\n",
    "device = torch.device(\"cuda\" if torch.cuda.is_available() else \"cpu\")"
   ]
  },
  {
   "attachments": {},
   "cell_type": "markdown",
   "metadata": {},
   "source": [
    "# Data Handling"
   ]
  },
  {
   "attachments": {},
   "cell_type": "markdown",
   "metadata": {},
   "source": [
    "### Getting the dataset files\n"
   ]
  },
  {
   "cell_type": "code",
   "execution_count": 98,
   "metadata": {},
   "outputs": [],
   "source": [
    "# Importing datasets tsv files\n",
    "\n",
    "train_tsv = pd.read_csv('.\\lexicons\\hi.translit.sampled.train.tsv', sep = \"\\t\").dropna()\n",
    "val_tsv   = pd.read_csv('.\\lexicons\\hi.translit.sampled.dev.tsv'  , sep = \"\\t\").dropna()\n",
    "test_tsv  = pd.read_csv('.\\lexicons\\hi.translit.sampled.test.tsv' , sep = \"\\t\").dropna()"
   ]
  },
  {
   "attachments": {},
   "cell_type": "markdown",
   "metadata": {},
   "source": [
    "### Generating the Vocabulary"
   ]
  },
  {
   "cell_type": "code",
   "execution_count": 99,
   "metadata": {},
   "outputs": [],
   "source": [
    "# Generating the vocabulary\n",
    "\n",
    "train_tsv.columns = ['translit', 'word',3]\n",
    "\n",
    "hindi_chars = set()\n",
    "english_chars = set()\n",
    "\n",
    "for i,j in zip(train_tsv[\"translit\"],train_tsv[\"word\"]):\n",
    "    hindi_chars = hindi_chars.union(set(i))\n",
    "    english_chars = english_chars.union(set(j))\n",
    "\n",
    "hindi_chars = sorted(list(hindi_chars))\n",
    "english_chars = sorted(list(english_chars))\n",
    "\n",
    "hindi_char_to_idx = {}\n",
    "hindi_idx_to_char = {}\n",
    "\n",
    "for index, char in enumerate(hindi_chars):\n",
    "    hindi_char_to_idx[char] = index\n",
    "    hindi_idx_to_char[index] = char\n",
    "\n",
    "english_char_to_idx = {}\n",
    "english_idx_to_char = {}\n",
    "\n",
    "for index, char in enumerate(english_chars):\n",
    "    english_char_to_idx[char] = index\n",
    "    english_idx_to_char[index] = char"
   ]
  },
  {
   "cell_type": "code",
   "execution_count": 100,
   "metadata": {},
   "outputs": [],
   "source": [
    "# Adding Special Characters\n",
    "\n",
    "# '^' stands for start of sentence\n",
    "# '$' stands for end of sentence\n",
    "# '-' stands for padding\n",
    "\n",
    "key_chars = ['^','$','-']\n",
    "\n",
    "for i in key_chars:\n",
    "\n",
    "    hindi_char_to_idx[i] = len(hindi_char_to_idx)\n",
    "    hindi_idx_to_char[len(hindi_idx_to_char)] = i\n",
    "\n",
    "    english_char_to_idx[i] = len(english_char_to_idx)\n",
    "    english_idx_to_char[len(english_idx_to_char)] = i"
   ]
  },
  {
   "cell_type": "code",
   "execution_count": 101,
   "metadata": {},
   "outputs": [],
   "source": [
    "def char2input(word, char_to_idx):\n",
    "    '''\n",
    "    word: word to be converted to input for the model\n",
    "    char_to_idx: dictionary of character to index\n",
    "    \n",
    "    returns: Index of word with stop word included\n",
    "    '''\n",
    "    word = word + '$'\n",
    "\n",
    "    return [char_to_idx[char] for char in word] # for the stop character"
   ]
  },
  {
   "attachments": {},
   "cell_type": "markdown",
   "metadata": {},
   "source": [
    "### Dataset and Dataloader"
   ]
  },
  {
   "cell_type": "code",
   "execution_count": 102,
   "metadata": {},
   "outputs": [],
   "source": [
    "def pad_collate_fn(batch):\n",
    "\n",
    "    x = [torch.tensor(item[0]) for item in batch]\n",
    "    y = [torch.tensor(item[1]) for item in batch]\n",
    "\n",
    "    x = torch.nn.utils.rnn.pad_sequence(x, batch_first = True, padding_value = len(english_char_to_idx)-1)\n",
    "    y = torch.nn.utils.rnn.pad_sequence(y, batch_first = True, padding_value = len(hindi_char_to_idx)-1)\n",
    "    \n",
    "    return x,y\n"
   ]
  },
  {
   "cell_type": "code",
   "execution_count": 103,
   "metadata": {},
   "outputs": [],
   "source": [
    "class Dataset(torch.utils.data.Dataset):\n",
    "    def __init__(self, data, lang1_char_to_idx, lang2_idx_to_char):\n",
    "        \n",
    "        self.data = data\n",
    "\n",
    "        self.lang1_char_to_idx = lang1_char_to_idx\n",
    "        self.lang2_idx_to_char = lang2_idx_to_char\n",
    "        \n",
    "    def __len__(self):\n",
    "\n",
    "        return len(self.data)\n",
    "    \n",
    "    def __getitem__(self, index):\n",
    "\n",
    "        word = self.data.iloc[index,1]\n",
    "        translit = self.data.iloc[index,0]\n",
    "\n",
    "        return char2input(word, self.lang1_char_to_idx), char2input(translit, self.lang2_idx_to_char)"
   ]
  },
  {
   "cell_type": "code",
   "execution_count": 104,
   "metadata": {},
   "outputs": [],
   "source": [
    "# Creating the dataset & dataloader\n",
    "\n",
    "train_dataset = Dataset(train_tsv, english_char_to_idx, hindi_char_to_idx)\n",
    "val_dataset   = Dataset(val_tsv  , english_char_to_idx, hindi_char_to_idx)\n",
    "test_dataset  = Dataset(test_tsv , english_char_to_idx, hindi_char_to_idx)\n",
    "\n",
    "train_loader = torch.utils.data.DataLoader(train_dataset , batch_size=256 , shuffle=True , collate_fn = pad_collate_fn )\n",
    "val_loader   = torch.utils.data.DataLoader(val_dataset   , batch_size=64  , shuffle=True , collate_fn = pad_collate_fn )\n",
    "test_loader  = torch.utils.data.DataLoader(test_dataset  , batch_size=64  , shuffle=True , collate_fn = pad_collate_fn )"
   ]
  },
  {
   "attachments": {},
   "cell_type": "markdown",
   "metadata": {},
   "source": [
    "# Part 1"
   ]
  },
  {
   "cell_type": "code",
   "execution_count": 105,
   "metadata": {},
   "outputs": [],
   "source": [
    "class seq2seq(nn.Module):\n",
    "    def __init__(self, embedding_dim, hidden_dim, layers_encoder, layers_decoder, input_vocab, output_vocab, type, dropout = 0):\n",
    "        super(seq2seq, self).__init__()\n",
    "\n",
    "        self.input_embedding_layer  = nn.Embedding(len(input_vocab), embedding_dim)\n",
    "        self.output_embedding_layer = nn.Embedding(len(output_vocab), embedding_dim)\n",
    "\n",
    "        if type == \"rnn\":\n",
    "            self.encoder = nn.RNN(embedding_dim, hidden_dim, layers_encoder, batch_first=True, dropout = dropout)\n",
    "            self.decoder = nn.RNN(embedding_dim, hidden_dim, layers_decoder, batch_first=True, dropout = dropout)\n",
    "\n",
    "        elif type == \"lstm\":\n",
    "            self.encoder = nn.LSTM(embedding_dim, hidden_dim, layers_encoder, batch_first=True, dropout = dropout)\n",
    "            self.decoder = nn.LSTM(embedding_dim, hidden_dim, layers_decoder, batch_first=True, dropout = dropout)\n",
    "\n",
    "        self.linear = nn.Linear(hidden_dim, len(output_vocab))\n",
    "\n",
    "        self.output_vocab = output_vocab\n",
    "        self.input_vocab  = input_vocab\n",
    "\n",
    "        self.hidden_dim = hidden_dim\n",
    "\n",
    "        self.layers_encoder = layers_encoder\n",
    "        self.layers_decoder = layers_decoder\n",
    "        \n",
    "        self.type = type\n",
    "        \n",
    "    def forward(self, input, target = None):\n",
    "\n",
    "        # embedding\n",
    "        input = self.input_embedding_layer(input)\n",
    "\n",
    "        # encoder\n",
    "        init_hidden = torch.zeros(self.layers_encoder, input.shape[0], self.hidden_dim).to(device)\n",
    "        if self.type == \"rnn\":\n",
    "\n",
    "            output, hidden = self.encoder(input, init_hidden)\n",
    "            # hidden = F.relu(hidden)\n",
    "\n",
    "        elif self.type == \"lstm\":\n",
    "\n",
    "            cell = torch.zeros(self.layers_encoder, input.shape[0], self.hidden_dim).to(device)\n",
    "\n",
    "            output, (hidden, cell) = self.encoder(input, (init_hidden, cell))\n",
    "            # (hidden, cell) = (F.relu(hidden), F.relu(cell))\n",
    "\n",
    "        # decoder\n",
    "        if target is not None:\n",
    "            \n",
    "            target = self.output_embedding_layer(target)\n",
    "            target = torch.roll(target,1,1)\n",
    "            target[:,0,:] = self.output_embedding_layer(torch.Tensor([[self.output_vocab['^']] for coun in range(input.shape[0])]).to(int).to(device))[:,0,:]\n",
    "            \n",
    "            if self.type == \"rnn\":\n",
    "                output, hidden = self.decoder(target, hidden)\n",
    "            elif self.type == \"lstm\":\n",
    "                output, (hidden, cell) = self.decoder(target, (hidden, cell))\n",
    "\n",
    "            output = self.linear(output)\n",
    "\n",
    "            return output\n",
    "\n",
    "        else:\n",
    "            \n",
    "            indexed_start = torch.Tensor([[self.output_vocab['^']] for coun in range(input.shape[0])]).to(int).to(device)\n",
    "\n",
    "            output = [indexed_start]\n",
    "            output_linear = []\n",
    "            \n",
    "            for i in range(20):\n",
    "                \n",
    "                if self.type == \"rnn\":\n",
    "                    inter_output, hidden = self.decoder(self.output_embedding_layer(output[-1]), hidden)\n",
    "                    output_linear.append(self.linear(inter_output))\n",
    "                    output.append(torch.argmax(output_linear[-1],dim=2))\n",
    "\n",
    "                elif self.type == \"lstm\":\n",
    "                    inter_output, (hidden, cell) = self.decoder(self.output_embedding_layer(output[-1]), (hidden, cell))\n",
    "                    output_linear.append(self.linear(inter_output))\n",
    "                    output.append(torch.argmax(output_linear[-1],dim=2))\n",
    "\n",
    "            # output = self.linear(torch.cat(output[1:], dim=1))\n",
    "\n",
    "            return torch.cat(output_linear, dim=1)\n",
    "        "
   ]
  },
  {
   "attachments": {},
   "cell_type": "markdown",
   "metadata": {},
   "source": [
    "# Part 2"
   ]
  },
  {
   "attachments": {},
   "cell_type": "markdown",
   "metadata": {},
   "source": [
    "## Utils\n"
   ]
  },
  {
   "cell_type": "code",
   "execution_count": 106,
   "metadata": {},
   "outputs": [],
   "source": [
    "def exact_accuracy(real, pred):\n",
    "    real = real\n",
    "    pred = pred\n",
    "\n",
    "    real = [\"\".join([hindi_idx_to_char[i] for i in j]) for j in real]\n",
    "    pred = [\"\".join([hindi_idx_to_char[i] for i in j]) for j in pred]\n",
    "\n",
    "    real = [i.split(\"$\")[0] for i in real]\n",
    "    pred = [i.split(\"$\")[0] for i in pred]\n",
    "\n",
    "    return sum([i==j for i,j in zip(real,pred)])/len(real)"
   ]
  },
  {
   "cell_type": "code",
   "execution_count": 107,
   "metadata": {},
   "outputs": [],
   "source": [
    "def charlvl_accuracy(real,pred):\n",
    "    real = real\n",
    "    pred = pred\n",
    "\n",
    "    real = [\"\".join([hindi_idx_to_char[i] for i in j]) for j in real]\n",
    "    pred = [\"\".join([hindi_idx_to_char[i] for i in j]) for j in pred]\n",
    "\n",
    "    real = [i.split(\"$\")[0] for i in real]\n",
    "    pred = [i.split(\"$\")[0] for i in pred]\n",
    "\n",
    "    real = [list(i) for i in real]\n",
    "    pred = [list(i) for i in pred]\n",
    "\n",
    "    score = 0\n",
    "    count = 0\n",
    "\n",
    "    for i,j in zip(real,pred):\n",
    "        for k,l in zip(i,j):\n",
    "            if k==l:\n",
    "                score += 1\n",
    "            count += 1\n",
    "\n",
    "    return score/count"
   ]
  },
  {
   "cell_type": "code",
   "execution_count": 108,
   "metadata": {},
   "outputs": [],
   "source": [
    "def convert_to_words(output, output_vocab):\n",
    "    output = output.cpu().detach().numpy()\n",
    "    output = [\"\".join([output_vocab[i] for i in j]) for j in output]\n",
    "    output = [i.split(\"$\")[0] for i in output]\n",
    "    return output"
   ]
  },
  {
   "cell_type": "code",
   "execution_count": 109,
   "metadata": {},
   "outputs": [],
   "source": [
    "def validate(\n",
    "        model,\n",
    "        dataloader,\n",
    "        criterion,\n",
    "        metrics,\n",
    "        debug = 1,\n",
    "):\n",
    "    model.train()\n",
    "\n",
    "    validation_loss = []\n",
    "\n",
    "    if debug == 2:\n",
    "        pbar = tqdm(dataloader)\n",
    "    elif debug == 1:\n",
    "        pbar = tqdm(dataloader, leave = False)\n",
    "    else:\n",
    "        pbar = dataloader\n",
    "    \n",
    "\n",
    "    running_loss = 0.0\n",
    "    count = 1e-9\n",
    "\n",
    "    real = []\n",
    "    pred = []\n",
    "\n",
    "    with torch.no_grad():\n",
    "        for i,j in pbar:\n",
    "            if debug > 0:\n",
    "                pbar.set_description(f\"Validation Loss {running_loss/count:.4f}\")\n",
    "\n",
    "            i = i.to(device)\n",
    "            j = j.to(device)\n",
    "\n",
    "            output = model(i)\n",
    "            \n",
    "            j = torch.concat((j,torch.full((j.shape[0],20 - j.shape[1]),len(hindi_char_to_idx)-1).to(int).to(device)),dim=1)\n",
    "            # print(\"VALIDATE ::\",output.shape,j.shape)\n",
    "            # print(\"VALIDATE ::\",output.reshape(-1, output.shape[-1]).shape,j.view(-1).shape)\n",
    "            loss = criterion(output.reshape(-1, output.shape[-1]), j.view(-1))\n",
    "\n",
    "            running_loss += loss.item()\n",
    "            count += 1\n",
    "\n",
    "            validation_loss.append(running_loss/count)\n",
    "            \n",
    "            real.extend(j.detach().cpu().tolist())\n",
    "            pred.extend(torch.argmax(output, dim=2).detach().cpu().tolist())\n",
    "\n",
    "    if debug == 0:\n",
    "        print(f\"Validation Loss {running_loss/count:.4f}\")\n",
    "\n",
    "    results = []\n",
    "\n",
    "    for metric in metrics:\n",
    "        results.append(metric(real, pred))\n",
    "\n",
    "    return validation_loss , results"
   ]
  },
  {
   "cell_type": "code",
   "execution_count": 110,
   "metadata": {},
   "outputs": [],
   "source": [
    "def train(\n",
    "        model,\n",
    "        dataloader,\n",
    "        optimizer,\n",
    "        criterion,\n",
    "        epochs = 10,\n",
    "        debug = 1,\n",
    "):\n",
    "    model.train()\n",
    "    model.to(device)\n",
    "\n",
    "    training_loss = []\n",
    "\n",
    "    for EPOCH in range(epochs):\n",
    "\n",
    "        if debug == 2:\n",
    "            pbar = tqdm(dataloader)\n",
    "        elif debug == 1:\n",
    "            pbar = tqdm(dataloader, leave = False)\n",
    "        else:\n",
    "            pbar = dataloader\n",
    "        \n",
    "\n",
    "        running_loss = 0.0\n",
    "        count = 1e-9\n",
    "\n",
    "        for i,j in pbar:\n",
    "            if debug > 0:\n",
    "                pbar.set_description(f\"Epoch {EPOCH+1} Loss {running_loss/count:.4f}\")\n",
    "\n",
    "            i = i.to(device)\n",
    "            j = j.to(device)\n",
    "\n",
    "            optimizer.zero_grad()\n",
    "\n",
    "            output = model(i,j)\n",
    "\n",
    "            loss = criterion(output.view(-1, output.shape[-1]), j.view(-1))\n",
    "\n",
    "            running_loss += loss.item()\n",
    "            count += 1\n",
    "\n",
    "            loss.backward()\n",
    "            optimizer.step()\n",
    "\n",
    "        training_loss.append(running_loss/count)\n",
    "\n",
    "        if debug == 0:\n",
    "            print(f\"Epoch {EPOCH+1} Loss {running_loss/count:.4f}\")\n",
    "\n",
    "    return training_loss"
   ]
  },
  {
   "attachments": {},
   "cell_type": "markdown",
   "metadata": {},
   "source": [
    "## Training with hyper parameters "
   ]
  },
  {
   "cell_type": "code",
   "execution_count": 111,
   "metadata": {},
   "outputs": [
    {
     "data": {
      "text/plain": [
       "16"
      ]
     },
     "execution_count": 111,
     "metadata": {},
     "output_type": "execute_result"
    }
   ],
   "source": [
    "hyperparameters = []\n",
    "for types in [\"lstm\",\"rnn\"]:\n",
    "    for input_embedding in [16,64]:\n",
    "        for hidden_size in [16,64]:\n",
    "            for layers in [1,3]:\n",
    "                hyperparameters.append([f\"{types}_{input_embedding}_{hidden_size}_{layers}\",{\n",
    "                    \"embedding_dim\" : input_embedding,\n",
    "                    \"hidden_dim\" : hidden_size,\n",
    "                    \"layers_encoder\" : layers,\n",
    "                    \"layers_decoder\" : layers,\n",
    "                    \"input_vocab\" : english_char_to_idx,\n",
    "                    \"output_vocab\" : hindi_char_to_idx,\n",
    "                    \"type\" : types,\n",
    "                }])\n",
    "\n",
    "len(hyperparameters)\n"
   ]
  },
  {
   "cell_type": "code",
   "execution_count": 112,
   "metadata": {},
   "outputs": [
    {
     "name": "stdout",
     "output_type": "stream",
     "text": [
      "lstm_16_16_1\n"
     ]
    },
    {
     "name": "stderr",
     "output_type": "stream",
     "text": [
      "                                                                       \r"
     ]
    },
    {
     "name": "stdout",
     "output_type": "stream",
     "text": [
      "\tExact accuracy : \t0.62\n",
      "\tChar level accuracy : \t23.66\n",
      "\n",
      "lstm_16_16_3\n"
     ]
    },
    {
     "name": "stderr",
     "output_type": "stream",
     "text": [
      "                                                                       \r"
     ]
    },
    {
     "name": "stdout",
     "output_type": "stream",
     "text": [
      "\tExact accuracy : \t0.76\n",
      "\tChar level accuracy : \t28.69\n",
      "\n",
      "lstm_16_64_1\n"
     ]
    },
    {
     "name": "stderr",
     "output_type": "stream",
     "text": [
      "                                                                       \r"
     ]
    },
    {
     "name": "stdout",
     "output_type": "stream",
     "text": [
      "\tExact accuracy : \t15.26\n",
      "\tChar level accuracy : \t51.99\n",
      "\n",
      "lstm_16_64_3\n"
     ]
    },
    {
     "name": "stderr",
     "output_type": "stream",
     "text": [
      "                                                                       \r"
     ]
    },
    {
     "name": "stdout",
     "output_type": "stream",
     "text": [
      "\tExact accuracy : \t26.92\n",
      "\tChar level accuracy : \t64.47\n",
      "\n",
      "lstm_64_16_1\n"
     ]
    },
    {
     "name": "stderr",
     "output_type": "stream",
     "text": [
      "                                                                       \r"
     ]
    },
    {
     "name": "stdout",
     "output_type": "stream",
     "text": [
      "\tExact accuracy : \t1.01\n",
      "\tChar level accuracy : \t27.35\n",
      "\n",
      "lstm_64_16_3\n"
     ]
    },
    {
     "name": "stderr",
     "output_type": "stream",
     "text": [
      "                                                                       \r"
     ]
    },
    {
     "name": "stdout",
     "output_type": "stream",
     "text": [
      "\tExact accuracy : \t1.29\n",
      "\tChar level accuracy : \t30.98\n",
      "\n",
      "lstm_64_64_1\n"
     ]
    },
    {
     "name": "stderr",
     "output_type": "stream",
     "text": [
      "                                                                       \r"
     ]
    },
    {
     "name": "stdout",
     "output_type": "stream",
     "text": [
      "\tExact accuracy : \t17.83\n",
      "\tChar level accuracy : \t53.51\n",
      "\n",
      "lstm_64_64_3\n"
     ]
    },
    {
     "name": "stderr",
     "output_type": "stream",
     "text": [
      "                                                                       \r"
     ]
    },
    {
     "name": "stdout",
     "output_type": "stream",
     "text": [
      "\tExact accuracy : \t19.83\n",
      "\tChar level accuracy : \t57.66\n",
      "\n",
      "rnn_16_16_1\n"
     ]
    },
    {
     "name": "stderr",
     "output_type": "stream",
     "text": [
      "                                                                       \r"
     ]
    },
    {
     "name": "stdout",
     "output_type": "stream",
     "text": [
      "\tExact accuracy : \t0.00\n",
      "\tChar level accuracy : \t8.99\n",
      "\n",
      "rnn_16_16_3\n"
     ]
    },
    {
     "name": "stderr",
     "output_type": "stream",
     "text": [
      "                                                                       \r"
     ]
    },
    {
     "name": "stdout",
     "output_type": "stream",
     "text": [
      "\tExact accuracy : \t0.00\n",
      "\tChar level accuracy : \t8.83\n",
      "\n",
      "rnn_16_64_1\n"
     ]
    },
    {
     "name": "stderr",
     "output_type": "stream",
     "text": [
      "                                                                       \r"
     ]
    },
    {
     "name": "stdout",
     "output_type": "stream",
     "text": [
      "\tExact accuracy : \t0.00\n",
      "\tChar level accuracy : \t7.04\n",
      "\n",
      "rnn_16_64_3\n"
     ]
    },
    {
     "name": "stderr",
     "output_type": "stream",
     "text": [
      "                                                                       \r"
     ]
    },
    {
     "name": "stdout",
     "output_type": "stream",
     "text": [
      "\tExact accuracy : \t0.00\n",
      "\tChar level accuracy : \t7.48\n",
      "\n",
      "rnn_64_16_1\n"
     ]
    },
    {
     "name": "stderr",
     "output_type": "stream",
     "text": [
      "                                                                       \r"
     ]
    },
    {
     "name": "stdout",
     "output_type": "stream",
     "text": [
      "\tExact accuracy : \t0.00\n",
      "\tChar level accuracy : \t8.92\n",
      "\n",
      "rnn_64_16_3\n"
     ]
    },
    {
     "name": "stderr",
     "output_type": "stream",
     "text": [
      "                                                                       \r"
     ]
    },
    {
     "name": "stdout",
     "output_type": "stream",
     "text": [
      "\tExact accuracy : \t0.00\n",
      "\tChar level accuracy : \t8.55\n",
      "\n",
      "rnn_64_64_1\n"
     ]
    },
    {
     "name": "stderr",
     "output_type": "stream",
     "text": [
      "                                                                       \r"
     ]
    },
    {
     "name": "stdout",
     "output_type": "stream",
     "text": [
      "\tExact accuracy : \t0.00\n",
      "\tChar level accuracy : \t7.21\n",
      "\n",
      "rnn_64_64_3\n"
     ]
    },
    {
     "name": "stderr",
     "output_type": "stream",
     "text": [
      "                                                                       \r"
     ]
    },
    {
     "name": "stdout",
     "output_type": "stream",
     "text": [
      "\tExact accuracy : \t0.00\n",
      "\tChar level accuracy : \t6.94\n",
      "\n"
     ]
    }
   ],
   "source": [
    "hyper_results = {}\n",
    "debug = 1\n",
    "for name,parameters in hyperparameters:\n",
    "    print(name)\n",
    "\n",
    "    model = seq2seq(**parameters)\n",
    "    optimizer = torch.optim.Adam(model.parameters(), lr=0.01)\n",
    "    criterion = nn.CrossEntropyLoss(ignore_index=len(hindi_char_to_idx)-1)\n",
    "\n",
    "    training_loss = train(model, train_loader, optimizer, criterion, epochs = 10, debug = debug)\n",
    "    validation_loss, results = validate(model, val_loader, criterion, [exact_accuracy, charlvl_accuracy], debug = debug)\n",
    "\n",
    "    print(f\"\\tExact accuracy : \\t{results[0]*100:.2f}\\n\\tChar level accuracy : \\t{results[1]*100:.2f}\")\n",
    "    print()\n",
    "\n",
    "    hyper_results[name] = {\n",
    "        \"training_loss\" : training_loss,\n",
    "        \"validation_loss\" : validation_loss,\n",
    "        \"exact_accuracy\" : results[0],\n",
    "        \"char_accuracy\" : results[1],\n",
    "    }"
   ]
  },
  {
   "cell_type": "code",
   "execution_count": 113,
   "metadata": {},
   "outputs": [
    {
     "name": "stdout",
     "output_type": "stream",
     "text": [
      "lstm_16_16_1 : 0.62\n",
      "lstm_16_16_3 : 0.76\n",
      "lstm_16_64_1 : 15.26\n",
      "lstm_16_64_3 : 26.92\n",
      "lstm_64_16_1 : 1.01\n",
      "lstm_64_16_3 : 1.29\n",
      "lstm_64_64_1 : 17.83\n",
      "lstm_64_64_3 : 19.83\n",
      "rnn_16_16_1 : 0.00\n",
      "rnn_16_16_3 : 0.00\n",
      "rnn_16_64_1 : 0.00\n",
      "rnn_16_64_3 : 0.00\n",
      "rnn_64_16_1 : 0.00\n",
      "rnn_64_16_3 : 0.00\n",
      "rnn_64_64_1 : 0.00\n",
      "rnn_64_64_3 : 0.00\n"
     ]
    }
   ],
   "source": [
    "for i in hyper_results:\n",
    "    print(f\"{i} : {hyper_results[i]['exact_accuracy']*100:.2f}\")"
   ]
  },
  {
   "cell_type": "code",
   "execution_count": 120,
   "metadata": {},
   "outputs": [
    {
     "data": {
      "image/png": "[encoded data removed]",
      "text/plain": [
       "<Figure size 1800x360 with 4 Axes>"
      ]
     },
     "metadata": {},
     "output_type": "display_data"
    }
   ],
   "source": [
    "# make 3 subplots\n",
    "fig, axs = plt.subplots(1, 4, figsize=(25,5))\n",
    "\n",
    "# plot the data\n",
    "axs[0].bar([0,1],[hyper_results[f\"{i}_64_64_1\"][\"char_accuracy\"] for i in [\"lstm\",\"rnn\"]])\n",
    "axs[1].bar([0,1],[hyper_results[f\"lstm_{i}_64_1\"][\"char_accuracy\"] for i in [16,64]])\n",
    "axs[2].bar([0,1],[hyper_results[f\"lstm_64_{i}_1\"][\"char_accuracy\"] for i in [16,64]])\n",
    "axs[3].bar([0,1],[hyper_results[f\"lstm_64_64_{i}\"][\"char_accuracy\"] for i in [1,3]])\n",
    "\n",
    "# set titles\n",
    "axs[0].set_title(\"Type\")\n",
    "axs[1].set_title(\"Input Embedding\")\n",
    "axs[2].set_title(\"Hidden Size\")\n",
    "axs[3].set_title(\"Layers\")\n",
    "\n",
    "# set xticks\n",
    "axs[0].set_xticks([0,1])\n",
    "axs[0].set_xticklabels([\"LSTM\",\"RNN\"])\n",
    "axs[1].set_xticks([0,1])\n",
    "axs[1].set_xticklabels([16,64])\n",
    "axs[2].set_xticks([0,1])\n",
    "axs[2].set_xticklabels([16,64])\n",
    "axs[3].set_xticks([0,1])\n",
    "axs[3].set_xticklabels([1,3])\n",
    "\n",
    "# set yticks\n",
    "axs[0].set_yticks([0,0.5,1])\n",
    "axs[1].set_yticks([0,0.5,1])\n",
    "axs[2].set_yticks([0,0.5,1])\n",
    "axs[3].set_yticks([0,0.5,1])\n",
    "\n",
    "# set ylabels\n",
    "axs[0].set_ylabel(\"Char level accuracy\")\n",
    "axs[1].set_ylabel(\"Char level accuracy\")\n",
    "axs[2].set_ylabel(\"Char level accuracy\")\n",
    "axs[3].set_ylabel(\"Char level accuracy\")\n",
    "\n",
    "plt.show()\n",
    "\n"
   ]
  },
  {
   "cell_type": "code",
   "execution_count": null,
   "metadata": {},
   "outputs": [],
   "source": []
  },
  {
   "attachments": {},
   "cell_type": "markdown",
   "metadata": {},
   "source": [
    "## Part 3"
   ]
  },
  {
   "cell_type": "code",
   "execution_count": 121,
   "metadata": {},
   "outputs": [
    {
     "name": "stderr",
     "output_type": "stream",
     "text": [
      "                                                                       \r"
     ]
    }
   ],
   "source": [
    "model = seq2seq(64, 64, 1, 1, english_char_to_idx, hindi_char_to_idx, \"lstm\")\n",
    "optimizer = torch.optim.Adam(model.parameters(), lr=0.01)\n",
    "criterion = nn.CrossEntropyLoss(ignore_index=len(hindi_char_to_idx)-1)\n",
    "\n",
    "training_loss = train(model, train_loader, optimizer, criterion, epochs = 10, debug = debug)\n",
    "validation_loss, results = validate(model, val_loader, criterion, [exact_accuracy, charlvl_accuracy], debug = debug)"
   ]
  },
  {
   "cell_type": "code",
   "execution_count": 122,
   "metadata": {},
   "outputs": [
    {
     "name": "stdout",
     "output_type": "stream",
     "text": [
      "[0.163741390802044, 0.5221500295333728]\n"
     ]
    }
   ],
   "source": [
    "test_loss, test_metrics = validate(model, test_loader, criterion, [exact_accuracy,charlvl_accuracy], debug=-1)\n",
    "print(test_metrics)"
   ]
  },
  {
   "cell_type": "code",
   "execution_count": 123,
   "metadata": {},
   "outputs": [
    {
     "name": "stderr",
     "output_type": "stream",
     "text": [
      "c:\\Users\\rohit\\AppData\\Local\\Programs\\Python\\Python39\\lib\\site-packages\\torch\\nn\\modules\\rnn.py:62: UserWarning: dropout option adds dropout after all but last recurrent layer, so non-zero dropout expects num_layers greater than 1, but got dropout=0.2 and num_layers=1\n",
      "  warnings.warn(\"dropout option adds dropout after all but last \"\n",
      "                                                                       \r"
     ]
    }
   ],
   "source": [
    "model = seq2seq(64, 64, 1, 1, english_char_to_idx, hindi_char_to_idx, \"lstm\",dropout=0.2)\n",
    "optimizer = torch.optim.Adam(model.parameters(), lr=0.01)\n",
    "criterion = nn.CrossEntropyLoss(ignore_index=len(hindi_char_to_idx)-1)\n",
    "\n",
    "training_loss = train(model, train_loader, optimizer, criterion, epochs = 10, debug = debug)\n",
    "validation_loss, results = validate(model, val_loader, criterion, [exact_accuracy, charlvl_accuracy], debug = debug)"
   ]
  },
  {
   "cell_type": "code",
   "execution_count": 124,
   "metadata": {},
   "outputs": [
    {
     "name": "stdout",
     "output_type": "stream",
     "text": [
      "[0.16463008220395467, 0.5278804499026271]\n"
     ]
    }
   ],
   "source": [
    "test_loss, test_metrics = validate(model, test_loader, criterion, [exact_accuracy,charlvl_accuracy], debug=-1)\n",
    "print(test_metrics)"
   ]
  },
  {
   "attachments": {},
   "cell_type": "markdown",
   "metadata": {},
   "source": [
    "## Part 4"
   ]
  },
  {
   "attachments": {},
   "cell_type": "markdown",
   "metadata": {},
   "source": [
    "## LSTM"
   ]
  },
  {
   "cell_type": "code",
   "execution_count": 125,
   "metadata": {},
   "outputs": [
    {
     "name": "stderr",
     "output_type": "stream",
     "text": [
      "Epoch 1 Loss 1.3211: 100%|██████████| 173/173 [00:08<00:00, 20.87it/s]\n",
      "Epoch 2 Loss 0.8537: 100%|██████████| 173/173 [00:07<00:00, 22.25it/s]\n",
      "Epoch 3 Loss 0.6473: 100%|██████████| 173/173 [00:09<00:00, 18.58it/s]\n",
      "Epoch 4 Loss 0.5276: 100%|██████████| 173/173 [00:08<00:00, 20.30it/s]\n",
      "Epoch 5 Loss 0.4629: 100%|██████████| 173/173 [00:08<00:00, 19.42it/s]\n",
      "Epoch 6 Loss 0.4247: 100%|██████████| 173/173 [00:08<00:00, 21.26it/s]\n",
      "Epoch 7 Loss 0.3976: 100%|██████████| 173/173 [00:08<00:00, 19.84it/s]\n",
      "Epoch 8 Loss 0.3767: 100%|██████████| 173/173 [00:08<00:00, 19.86it/s]\n",
      "Epoch 9 Loss 0.3611: 100%|██████████| 173/173 [00:10<00:00, 17.25it/s]\n",
      "Epoch 10 Loss 0.3474: 100%|██████████| 173/173 [00:08<00:00, 20.73it/s]\n"
     ]
    },
    {
     "name": "stdout",
     "output_type": "stream",
     "text": [
      "Validation Loss 1.3566\n",
      "[0.16502180399357355, 0.5289920078290654]\n"
     ]
    }
   ],
   "source": [
    "lstm_modular = seq2seq(64, 64, 1, 1, english_char_to_idx, hindi_char_to_idx, \"lstm\")\n",
    "lstm_modular = lstm_modular.to(device)\n",
    "\n",
    "criterion = nn.CrossEntropyLoss()\n",
    "optimizer = torch.optim.Adam(lstm_modular.parameters(), lr=0.01)\n",
    "\n",
    "lstm_losses = train(lstm_modular, train_loader, optimizer, criterion, epochs=10, debug=2)\n",
    "lstm_val_loss, lstm_val_metrics = validate(lstm_modular, val_loader, criterion, [exact_accuracy,charlvl_accuracy], debug=0)\n",
    "\n",
    "print(lstm_val_metrics)"
   ]
  },
  {
   "cell_type": "code",
   "execution_count": 128,
   "metadata": {},
   "outputs": [
    {
     "name": "stdout",
     "output_type": "stream",
     "text": [
      "[0.16502180399357355, 0.5289920078290654]\n"
     ]
    }
   ],
   "source": [
    "lstm_test_loss, lstm_test_metrics = validate(lstm_modular, test_loader, criterion, [exact_accuracy,charlvl_accuracy], debug=-1)\n",
    "\n",
    "print(lstm_val_metrics)"
   ]
  },
  {
   "attachments": {},
   "cell_type": "markdown",
   "metadata": {},
   "source": [
    "## ATTENTION LSTM"
   ]
  },
  {
   "cell_type": "code",
   "execution_count": 126,
   "metadata": {},
   "outputs": [],
   "source": [
    "class Attention_LSTM(nn.Module):\n",
    "    def __init__(self, embedding_dim, hidden_dim, layers_encoder, layers_decoder, input_vocab, output_vocab, max_length = 20):\n",
    "        super(Attention_LSTM, self).__init__()\n",
    "\n",
    "        self.input_embedding_layer  = nn.Embedding(len(input_vocab), embedding_dim)\n",
    "        self.output_embedding_layer = nn.Embedding(len(output_vocab), embedding_dim)\n",
    "\n",
    "        self.encoder = nn.LSTM(embedding_dim, hidden_dim, layers_encoder, batch_first=True)\n",
    "        self.decoder = nn.LSTM(embedding_dim + hidden_dim, hidden_dim, layers_decoder, batch_first=True)\n",
    "\n",
    "        self.attention_score = nn.Sequential(\n",
    "            nn.Linear(hidden_dim*2, hidden_dim),\n",
    "            nn.Tanh(),\n",
    "            nn.Linear(hidden_dim, 1)\n",
    "        )\n",
    "        \n",
    "        self.linear = nn.Linear(hidden_dim, len(output_vocab))\n",
    "\n",
    "        self.output_vocab = output_vocab\n",
    "        self.input_vocab  = input_vocab\n",
    "\n",
    "        self.hidden_dim = hidden_dim\n",
    "\n",
    "        self.layers_encoder = layers_encoder\n",
    "        self.layers_decoder = layers_decoder\n",
    "\n",
    "        self.max_length = max_length\n",
    "        \n",
    "    def forward(self, input, target = None):\n",
    "\n",
    "        input = self.input_embedding_layer(input)\n",
    "\n",
    "        hidden = torch.ones(self.layers_encoder, input.shape[0], self.hidden_dim).to(device)\n",
    "        cell   = torch.ones(self.layers_encoder, input.shape[0], self.hidden_dim).to(device)\n",
    "\n",
    "        # print(\"meow\")\n",
    "\n",
    "        Encoder_hidden_state = []\n",
    "        for i in range(input.shape[1]):\n",
    "\n",
    "            output , (hidden, cell) = self.encoder(input[:,i,:].unsqueeze(1), (hidden, cell))\n",
    "            Encoder_hidden_state.append(output)\n",
    "\n",
    "        Encoder_hidden_state = torch.cat(Encoder_hidden_state, dim=1)\n",
    "\n",
    "        if target is not None:\n",
    "            \n",
    "            target = self.output_embedding_layer(target)\n",
    "            target = torch.roll(target,1,1)\n",
    "            target[:,0,:] = self.output_embedding_layer(torch.Tensor([[self.output_vocab['^']] for coun in range(input.shape[0])]).to(int).to(device))[:,0,:]\n",
    "            \n",
    "            output_list = []\n",
    "            for i in range(target.shape[1]):\n",
    "\n",
    "                dhidden = hidden[-1].unsqueeze(1).repeat(1,Encoder_hidden_state.shape[1],1)\n",
    "                attention_scores = F.softmax(self.attention_score(torch.cat((dhidden,Encoder_hidden_state),dim=2)),dim=1)\n",
    "                context_vector = torch.sum(attention_scores*Encoder_hidden_state, dim=1)\n",
    "\n",
    "                output, (hidden, cell) = self.decoder(torch.concat((target[:,i,:],context_vector),dim=1).unsqueeze(1), (hidden, cell))\n",
    "                output_list.append(output)\n",
    "\n",
    "            output_list = torch.cat(output_list, dim=1)\n",
    "            output = self.linear(output_list)\n",
    "\n",
    "            return output\n",
    "\n",
    "        else:\n",
    "            \n",
    "            indexed_start = torch.Tensor([[self.output_vocab['^']] for coun in range(input.shape[0])]).to(int).to(device)\n",
    "\n",
    "            output = [indexed_start]\n",
    "            output_linear = []\n",
    "\n",
    "            for i in range(self.max_length):\n",
    "\n",
    "                dhidden = hidden[-1].unsqueeze(1).repeat(1,Encoder_hidden_state.shape[1],1)\n",
    "                attention_scores = F.softmax(self.attention_score(torch.cat((dhidden,Encoder_hidden_state),dim=2)),dim=1)\n",
    "                context_vector = torch.sum(attention_scores*Encoder_hidden_state, dim=1)\n",
    "                \n",
    "                inter_output, (hidden, cell) = self.decoder(torch.concat((self.output_embedding_layer(output[-1])[:,0,:],context_vector),dim=1).unsqueeze(1), (hidden, cell))\n",
    "                \n",
    "                output_linear.append(self.linear(inter_output))\n",
    "                output.append(torch.argmax(output_linear[-1],dim=2))\n",
    "\n",
    "            return torch.cat(output_linear, dim=1)\n",
    "        "
   ]
  },
  {
   "cell_type": "code",
   "execution_count": 127,
   "metadata": {},
   "outputs": [
    {
     "name": "stderr",
     "output_type": "stream",
     "text": [
      "Epoch 1 Loss 1.3112: 100%|██████████| 173/173 [00:16<00:00, 10.42it/s]\n",
      "Epoch 2 Loss 0.5645: 100%|██████████| 173/173 [00:17<00:00, 10.11it/s]\n",
      "Epoch 3 Loss 0.2983: 100%|██████████| 173/173 [00:16<00:00, 10.26it/s]\n",
      "Epoch 4 Loss 0.2482: 100%|██████████| 173/173 [00:16<00:00, 10.32it/s]\n",
      "Epoch 5 Loss 0.2273: 100%|██████████| 173/173 [00:16<00:00, 10.34it/s]\n",
      "Epoch 6 Loss 0.2095: 100%|██████████| 173/173 [00:17<00:00, 10.06it/s]\n",
      "Epoch 7 Loss 0.2023: 100%|██████████| 173/173 [00:16<00:00, 10.30it/s]\n",
      "Epoch 8 Loss 0.1931: 100%|██████████| 173/173 [00:17<00:00,  9.70it/s]\n",
      "Epoch 9 Loss 0.1875: 100%|██████████| 173/173 [00:18<00:00,  9.50it/s]\n",
      "Epoch 10 Loss 0.1810: 100%|██████████| 173/173 [00:17<00:00,  9.73it/s]\n"
     ]
    },
    {
     "name": "stdout",
     "output_type": "stream",
     "text": [
      "Validation Loss 0.9757\n",
      "[0.34404406701859075, 0.7001525124418044]\n"
     ]
    }
   ],
   "source": [
    "att_modular = Attention_LSTM(64, 64, 1, 1, english_char_to_idx, hindi_char_to_idx)\n",
    "\n",
    "att_modular = att_modular.to(device)\n",
    "\n",
    "criterion = nn.CrossEntropyLoss()\n",
    "optimizer = torch.optim.Adam(att_modular.parameters(), lr=0.01)\n",
    "\n",
    "att_losses = train(att_modular, train_loader, optimizer, criterion, epochs=10, debug=2)\n",
    "att_val_loss, att_val_metrics = validate(att_modular, val_loader, criterion, [exact_accuracy,charlvl_accuracy], debug=0)\n",
    "\n",
    "print(att_val_metrics)"
   ]
  },
  {
   "cell_type": "code",
   "execution_count": 129,
   "metadata": {},
   "outputs": [
    {
     "name": "stdout",
     "output_type": "stream",
     "text": [
      "[0.34404406701859075, 0.7001525124418044]\n"
     ]
    }
   ],
   "source": [
    "att_test_loss, att_test_metrics = validate(att_modular, test_loader, criterion, [exact_accuracy,charlvl_accuracy], debug=-1)\n",
    "\n",
    "print(att_val_metrics)"
   ]
  },
  {
   "cell_type": "code",
   "execution_count": 130,
   "metadata": {},
   "outputs": [
    {
     "data": {
      "image/png": "[encoded data removed]",
      "text/plain": [
       "<Figure size 720x360 with 1 Axes>"
      ]
     },
     "metadata": {},
     "output_type": "display_data"
    }
   ],
   "source": [
    "plt.figure(figsize=(10,5))\n",
    "plt.plot(lstm_losses, label=\"LSTM\")\n",
    "plt.plot(att_losses, label=\"Attention\")\n",
    "plt.legend()\n",
    "plt.xlabel(\"Epochs\")\n",
    "plt.ylabel(\"Loss\")\n",
    "plt.title(\"Loss vs Epochs\")\n",
    "plt.show()"
   ]
  },
  {
   "cell_type": "code",
   "execution_count": 131,
   "metadata": {},
   "outputs": [
    {
     "data": {
      "image/png": "[encoded data removed]",
      "text/plain": [
       "<Figure size 576x360 with 1 Axes>"
      ]
     },
     "metadata": {},
     "output_type": "display_data"
    }
   ],
   "source": [
    "plt.figure(figsize=(8,5))\n",
    "plt.bar([0,2], [lstm_val_metrics[0]*100, att_val_metrics[0]*100], label=\"Exact Accuracy\")\n",
    "plt.bar([0.75,2.75], [lstm_val_metrics[1]*100, att_val_metrics[1]*100], label=\"Char Level Accuracy\")\n",
    "plt.xticks([0.375,2.375], [\"LSTM\", \"Attention\"])\n",
    "plt.legend()\n",
    "plt.xlabel(\"Model\")\n",
    "plt.ylabel(\"Accuracy\")\n",
    "plt.title(\"Accuracy for LSTM and Attention_LSTM\")\n",
    "plt.show()\n"
   ]
  },
  {
   "attachments": {},
   "cell_type": "markdown",
   "metadata": {},
   "source": [
    "# Question 2"
   ]
  },
  {
   "cell_type": "code",
   "execution_count": 132,
   "metadata": {},
   "outputs": [],
   "source": [
    "from sklearn.model_selection import train_test_split\n",
    "from sklearn.preprocessing import MinMaxScaler"
   ]
  },
  {
   "attachments": {},
   "cell_type": "markdown",
   "metadata": {},
   "source": [
    "## Preprocessing"
   ]
  },
  {
   "cell_type": "code",
   "execution_count": 133,
   "metadata": {},
   "outputs": [
    {
     "name": "stderr",
     "output_type": "stream",
     "text": [
      "c:\\Users\\rohit\\AppData\\Local\\Programs\\Python\\Python39\\lib\\site-packages\\IPython\\core\\interactiveshell.py:3251: DtypeWarning: Columns (2,3,4,5,6,7) have mixed types.Specify dtype option on import or set low_memory=False.\n",
      "  exec(code_obj, self.user_global_ns, self.user_ns)\n"
     ]
    }
   ],
   "source": [
    "dataset2 = pd.read_csv(\"./household_power_consumption/household_power_consumption.txt\",sep=\";\",header=0,parse_dates=True,infer_datetime_format=True)\n",
    "dataset2[\"Global_active_power\"].replace(\"?\", np.nan, inplace = True)\n",
    "dataset2.dropna(subset=[\"Global_active_power\"], inplace=True)\n",
    "dataset2['datetime'] = pd.to_datetime(dataset2['Date'] + ' ' + dataset2['Time'])\n",
    "dataset2 = dataset2.set_index('datetime')\n",
    "dataset2 = dataset2.resample('D').mean()\n",
    "# dataset2 = dataset2.astype({\"Global_active_power\": float})\n"
   ]
  },
  {
   "cell_type": "code",
   "execution_count": 134,
   "metadata": {},
   "outputs": [],
   "source": [
    "dataset2 = dataset2[[\"Sub_metering_3\"]].dropna()\n",
    "dataset2 = dataset2.values"
   ]
  },
  {
   "cell_type": "code",
   "execution_count": 135,
   "metadata": {},
   "outputs": [
    {
     "data": {
      "text/plain": [
       "[]"
      ]
     },
     "execution_count": 135,
     "metadata": {},
     "output_type": "execute_result"
    },
    {
     "data": {
      "image/png": "[encoded data removed]",
      "text/plain": [
       "<Figure size 1800x360 with 1 Axes>"
      ]
     },
     "metadata": {},
     "output_type": "display_data"
    }
   ],
   "source": [
    "data = list(map(float,dataset2))[:5000]\n",
    "\n",
    "plt.figure(figsize=(25,5))\n",
    "plt.plot(data, color='red', label='Global_active_power', linewidth=1)\n",
    "plt.title('Global_active_power for 5000 samples')\n",
    "plt.plot()"
   ]
  },
  {
   "cell_type": "code",
   "execution_count": 136,
   "metadata": {},
   "outputs": [],
   "source": [
    "scaler = MinMaxScaler()\n",
    "dataset2_scaled = pd.DataFrame(scaler.fit_transform(dataset2))"
   ]
  },
  {
   "attachments": {},
   "cell_type": "markdown",
   "metadata": {},
   "source": [
    "## model"
   ]
  },
  {
   "cell_type": "code",
   "execution_count": 137,
   "metadata": {},
   "outputs": [],
   "source": [
    "class LSTMModel(nn.Module):\n",
    "    def __init__(self, input_dim, hidden_dim, output_dim, num_layers):\n",
    "        super(LSTMModel, self).__init__()\n",
    "\n",
    "        self.hidden_dim = hidden_dim\n",
    "        self.num_layers = num_layers\n",
    "\n",
    "        self.lstm = nn.LSTM(input_dim, hidden_dim, num_layers, batch_first=True)\n",
    "        self.fc = nn.Linear(hidden_dim, output_dim)\n",
    "        \n",
    "    def forward(self, x):\n",
    "\n",
    "        h0 = torch.zeros(self.num_layers, x.size(0), self.hidden_dim).to(x.device)\n",
    "        c0 = torch.zeros(self.num_layers, x.size(0), self.hidden_dim).to(x.device)\n",
    "        \n",
    "        out, _  = self.lstm(x, (h0, c0))\n",
    "        out     = self.fc(out[:, -1, :])\n",
    "\n",
    "        return out"
   ]
  },
  {
   "attachments": {},
   "cell_type": "markdown",
   "metadata": {},
   "source": [
    "## 80:20 Split"
   ]
  },
  {
   "cell_type": "code",
   "execution_count": 138,
   "metadata": {},
   "outputs": [],
   "source": [
    "train_size = int(len(dataset2_scaled) * 0.8)\n",
    "train, test = dataset2_scaled[:train_size], dataset2_scaled[train_size:]"
   ]
  },
  {
   "cell_type": "code",
   "execution_count": 140,
   "metadata": {},
   "outputs": [
    {
     "name": "stderr",
     "output_type": "stream",
     "text": [
      "100%|██████████| 1116/1116 [00:06<00:00, 180.98it/s]\n"
     ]
    },
    {
     "name": "stdout",
     "output_type": "stream",
     "text": [
      "Epoch [1/50], Loss: 0.1052\n"
     ]
    },
    {
     "name": "stderr",
     "output_type": "stream",
     "text": [
      "  4%|▍         | 47/1116 [00:00<00:06, 153.19it/s]"
     ]
    }
   ],
   "source": [
    "# Define hyperparameters\n",
    "input_dim = train.shape[1]\n",
    "hidden_dim = 64\n",
    "output_dim = 1\n",
    "\n",
    "num_layers = 1\n",
    "lr = 0.001\n",
    "num_epochs = 50\n",
    "\n",
    "model = LSTMModel(input_dim, hidden_dim, output_dim, num_layers).to(device)\n",
    "\n",
    "criterion = nn.MSELoss()\n",
    "optimizer = torch.optim.Adam(model.parameters(), lr=lr)\n",
    "n_steps = 30\n",
    "\n",
    "training_losses = []\n",
    "test_loss = 0\n",
    "for epoch in range(num_epochs):\n",
    "\n",
    "    running_losss = 0.0\n",
    "    count = 1e-9\n",
    "\n",
    "    for i in tqdm(range(n_steps, len(train))):\n",
    "\n",
    "        x = train.iloc[i-n_steps:i].values\n",
    "        y = train.iloc[i].values\n",
    "\n",
    "        # print(x.shape, y.shape)\n",
    "        \n",
    "        x_tensor = torch.tensor(x, dtype=torch.float).unsqueeze(0).to(device)\n",
    "        y_tensor = torch.tensor(y, dtype=torch.float).unsqueeze(0).to(device)\n",
    "        \n",
    "        output = model(x_tensor)\n",
    "        loss = criterion(output, y_tensor)\n",
    "\n",
    "        running_losss += loss.item()\n",
    "        count += 1\n",
    "\n",
    "        optimizer.zero_grad()\n",
    "        loss.backward()\n",
    "        optimizer.step()\n",
    "\n",
    "    training_losses.append(running_losss/count)\n",
    "\n",
    "    print('Epoch [{}/{}], Loss: {:.4f}'.format(epoch+1, num_epochs, loss.item()))\n",
    "\n",
    "with torch.no_grad():\n",
    "\n",
    "    count = 1e-9\n",
    "\n",
    "    results = []\n",
    "    \n",
    "    for i in tqdm(range(n_steps, len(test))):\n",
    "\n",
    "        x = test.iloc[i-n_steps:i].values\n",
    "        y = test.iloc[i].values\n",
    "\n",
    "        # print(x.shape, y.shape)\n",
    "        \n",
    "        x_tensor = torch.tensor(x, dtype=torch.float).unsqueeze(0).to(device)\n",
    "        y_tensor = torch.tensor(y, dtype=torch.float).unsqueeze(0).to(device)\n",
    "        \n",
    "        output = model(x_tensor)\n",
    "        loss = criterion(output, y_tensor)\n",
    "\n",
    "        test_loss += loss.item()\n",
    "        count += 1\n",
    "\n",
    "        results.append(output.cpu().numpy()[0])\n",
    "\n",
    "    test_predicted = scaler.inverse_transform(results)\n",
    "\n",
    "print('Test Loss: {:.4f}'.format(test_loss/count))\n",
    "print(\"training_losses\", training_losses[-1])\n",
    "\n",
    "plt.figure(figsize=(10,5))\n",
    "plt.plot(training_losses, label=\"Training Loss\")\n",
    "plt.legend()\n",
    "plt.xlabel(\"Epochs\")\n",
    "plt.ylabel(\"Loss\")\n",
    "plt.title(\"Loss vs Epochs\")\n",
    "plt.show()\n"
   ]
  },
  {
   "cell_type": "code",
   "execution_count": null,
   "metadata": {},
   "outputs": [],
   "source": []
  },
  {
   "attachments": {},
   "cell_type": "markdown",
   "metadata": {},
   "source": [
    "## 70:30 Split"
   ]
  },
  {
   "cell_type": "code",
   "execution_count": null,
   "metadata": {},
   "outputs": [],
   "source": [
    "train_size = int(len(dataset2_scaled) * 0.7)\n",
    "train, test = dataset2_scaled[:train_size], dataset2_scaled[train_size:]"
   ]
  },
  {
   "cell_type": "code",
   "execution_count": null,
   "metadata": {},
   "outputs": [
    {
     "name": "stderr",
     "output_type": "stream",
     "text": [
      "100%|██████████| 973/973 [00:05<00:00, 189.63it/s]\n"
     ]
    },
    {
     "name": "stdout",
     "output_type": "stream",
     "text": [
      "Epoch [1/50], Loss: 0.0237\n"
     ]
    },
    {
     "name": "stderr",
     "output_type": "stream",
     "text": [
      "100%|██████████| 973/973 [00:04<00:00, 205.95it/s]\n"
     ]
    },
    {
     "name": "stdout",
     "output_type": "stream",
     "text": [
      "Epoch [2/50], Loss: 0.0201\n"
     ]
    },
    {
     "name": "stderr",
     "output_type": "stream",
     "text": [
      "100%|██████████| 973/973 [00:03<00:00, 282.12it/s]\n"
     ]
    },
    {
     "name": "stdout",
     "output_type": "stream",
     "text": [
      "Epoch [3/50], Loss: 0.0198\n"
     ]
    },
    {
     "name": "stderr",
     "output_type": "stream",
     "text": [
      "100%|██████████| 973/973 [00:03<00:00, 259.93it/s]\n"
     ]
    },
    {
     "name": "stdout",
     "output_type": "stream",
     "text": [
      "Epoch [4/50], Loss: 0.0196\n"
     ]
    },
    {
     "name": "stderr",
     "output_type": "stream",
     "text": [
      "100%|██████████| 973/973 [00:04<00:00, 199.95it/s]\n"
     ]
    },
    {
     "name": "stdout",
     "output_type": "stream",
     "text": [
      "Epoch [5/50], Loss: 0.0195\n"
     ]
    },
    {
     "name": "stderr",
     "output_type": "stream",
     "text": [
      "100%|██████████| 973/973 [00:05<00:00, 182.92it/s]\n"
     ]
    },
    {
     "name": "stdout",
     "output_type": "stream",
     "text": [
      "Epoch [6/50], Loss: 0.0194\n"
     ]
    },
    {
     "name": "stderr",
     "output_type": "stream",
     "text": [
      "100%|██████████| 973/973 [00:04<00:00, 216.56it/s]\n"
     ]
    },
    {
     "name": "stdout",
     "output_type": "stream",
     "text": [
      "Epoch [7/50], Loss: 0.0193\n"
     ]
    },
    {
     "name": "stderr",
     "output_type": "stream",
     "text": [
      "100%|██████████| 973/973 [00:06<00:00, 141.33it/s]\n"
     ]
    },
    {
     "name": "stdout",
     "output_type": "stream",
     "text": [
      "Epoch [8/50], Loss: 0.0192\n"
     ]
    },
    {
     "name": "stderr",
     "output_type": "stream",
     "text": [
      "100%|██████████| 973/973 [00:04<00:00, 198.79it/s]\n"
     ]
    },
    {
     "name": "stdout",
     "output_type": "stream",
     "text": [
      "Epoch [9/50], Loss: 0.0191\n"
     ]
    },
    {
     "name": "stderr",
     "output_type": "stream",
     "text": [
      "100%|██████████| 973/973 [00:03<00:00, 248.85it/s]\n"
     ]
    },
    {
     "name": "stdout",
     "output_type": "stream",
     "text": [
      "Epoch [10/50], Loss: 0.0190\n"
     ]
    },
    {
     "name": "stderr",
     "output_type": "stream",
     "text": [
      "100%|██████████| 973/973 [00:03<00:00, 249.22it/s]\n"
     ]
    },
    {
     "name": "stdout",
     "output_type": "stream",
     "text": [
      "Epoch [11/50], Loss: 0.0189\n"
     ]
    },
    {
     "name": "stderr",
     "output_type": "stream",
     "text": [
      "100%|██████████| 973/973 [00:04<00:00, 205.71it/s]\n"
     ]
    },
    {
     "name": "stdout",
     "output_type": "stream",
     "text": [
      "Epoch [12/50], Loss: 0.0189\n"
     ]
    },
    {
     "name": "stderr",
     "output_type": "stream",
     "text": [
      "100%|██████████| 973/973 [00:03<00:00, 250.12it/s]\n"
     ]
    },
    {
     "name": "stdout",
     "output_type": "stream",
     "text": [
      "Epoch [13/50], Loss: 0.0188\n"
     ]
    },
    {
     "name": "stderr",
     "output_type": "stream",
     "text": [
      "100%|██████████| 973/973 [00:03<00:00, 265.84it/s]\n"
     ]
    },
    {
     "name": "stdout",
     "output_type": "stream",
     "text": [
      "Epoch [14/50], Loss: 0.0188\n"
     ]
    },
    {
     "name": "stderr",
     "output_type": "stream",
     "text": [
      "100%|██████████| 973/973 [00:03<00:00, 264.22it/s]\n"
     ]
    },
    {
     "name": "stdout",
     "output_type": "stream",
     "text": [
      "Epoch [15/50], Loss: 0.0186\n"
     ]
    },
    {
     "name": "stderr",
     "output_type": "stream",
     "text": [
      "100%|██████████| 973/973 [00:07<00:00, 130.48it/s]\n"
     ]
    },
    {
     "name": "stdout",
     "output_type": "stream",
     "text": [
      "Epoch [16/50], Loss: 0.0187\n"
     ]
    },
    {
     "name": "stderr",
     "output_type": "stream",
     "text": [
      "100%|██████████| 973/973 [00:06<00:00, 140.98it/s]\n"
     ]
    },
    {
     "name": "stdout",
     "output_type": "stream",
     "text": [
      "Epoch [17/50], Loss: 0.0186\n"
     ]
    },
    {
     "name": "stderr",
     "output_type": "stream",
     "text": [
      "100%|██████████| 973/973 [00:05<00:00, 168.45it/s]\n"
     ]
    },
    {
     "name": "stdout",
     "output_type": "stream",
     "text": [
      "Epoch [18/50], Loss: 0.0186\n"
     ]
    },
    {
     "name": "stderr",
     "output_type": "stream",
     "text": [
      "100%|██████████| 973/973 [00:05<00:00, 191.58it/s]\n"
     ]
    },
    {
     "name": "stdout",
     "output_type": "stream",
     "text": [
      "Epoch [19/50], Loss: 0.0185\n"
     ]
    },
    {
     "name": "stderr",
     "output_type": "stream",
     "text": [
      "100%|██████████| 973/973 [00:06<00:00, 155.37it/s]\n"
     ]
    },
    {
     "name": "stdout",
     "output_type": "stream",
     "text": [
      "Epoch [20/50], Loss: 0.0184\n"
     ]
    },
    {
     "name": "stderr",
     "output_type": "stream",
     "text": [
      "100%|██████████| 973/973 [00:04<00:00, 198.66it/s]\n"
     ]
    },
    {
     "name": "stdout",
     "output_type": "stream",
     "text": [
      "Epoch [21/50], Loss: 0.0185\n"
     ]
    },
    {
     "name": "stderr",
     "output_type": "stream",
     "text": [
      "100%|██████████| 973/973 [00:04<00:00, 242.88it/s]\n"
     ]
    },
    {
     "name": "stdout",
     "output_type": "stream",
     "text": [
      "Epoch [22/50], Loss: 0.0184\n"
     ]
    },
    {
     "name": "stderr",
     "output_type": "stream",
     "text": [
      "100%|██████████| 973/973 [00:03<00:00, 245.19it/s]\n"
     ]
    },
    {
     "name": "stdout",
     "output_type": "stream",
     "text": [
      "Epoch [23/50], Loss: 0.0183\n"
     ]
    },
    {
     "name": "stderr",
     "output_type": "stream",
     "text": [
      "100%|██████████| 973/973 [00:03<00:00, 262.85it/s]\n"
     ]
    },
    {
     "name": "stdout",
     "output_type": "stream",
     "text": [
      "Epoch [24/50], Loss: 0.0184\n"
     ]
    },
    {
     "name": "stderr",
     "output_type": "stream",
     "text": [
      "100%|██████████| 973/973 [00:04<00:00, 239.08it/s]\n"
     ]
    },
    {
     "name": "stdout",
     "output_type": "stream",
     "text": [
      "Epoch [25/50], Loss: 0.0183\n"
     ]
    },
    {
     "name": "stderr",
     "output_type": "stream",
     "text": [
      "100%|██████████| 973/973 [00:03<00:00, 267.72it/s]\n"
     ]
    },
    {
     "name": "stdout",
     "output_type": "stream",
     "text": [
      "Epoch [26/50], Loss: 0.0183\n"
     ]
    },
    {
     "name": "stderr",
     "output_type": "stream",
     "text": [
      "100%|██████████| 973/973 [00:03<00:00, 249.95it/s]\n"
     ]
    },
    {
     "name": "stdout",
     "output_type": "stream",
     "text": [
      "Epoch [27/50], Loss: 0.0183\n"
     ]
    },
    {
     "name": "stderr",
     "output_type": "stream",
     "text": [
      "100%|██████████| 973/973 [00:04<00:00, 236.55it/s]\n"
     ]
    },
    {
     "name": "stdout",
     "output_type": "stream",
     "text": [
      "Epoch [28/50], Loss: 0.0182\n"
     ]
    },
    {
     "name": "stderr",
     "output_type": "stream",
     "text": [
      "100%|██████████| 973/973 [00:03<00:00, 259.79it/s]\n"
     ]
    },
    {
     "name": "stdout",
     "output_type": "stream",
     "text": [
      "Epoch [29/50], Loss: 0.0182\n"
     ]
    },
    {
     "name": "stderr",
     "output_type": "stream",
     "text": [
      "100%|██████████| 973/973 [00:03<00:00, 245.36it/s]\n"
     ]
    },
    {
     "name": "stdout",
     "output_type": "stream",
     "text": [
      "Epoch [30/50], Loss: 0.0182\n"
     ]
    },
    {
     "name": "stderr",
     "output_type": "stream",
     "text": [
      "100%|██████████| 973/973 [00:03<00:00, 259.41it/s]\n"
     ]
    },
    {
     "name": "stdout",
     "output_type": "stream",
     "text": [
      "Epoch [31/50], Loss: 0.0182\n"
     ]
    },
    {
     "name": "stderr",
     "output_type": "stream",
     "text": [
      "100%|██████████| 973/973 [00:03<00:00, 266.77it/s]\n"
     ]
    },
    {
     "name": "stdout",
     "output_type": "stream",
     "text": [
      "Epoch [32/50], Loss: 0.0182\n"
     ]
    },
    {
     "name": "stderr",
     "output_type": "stream",
     "text": [
      "100%|██████████| 973/973 [00:04<00:00, 234.44it/s]\n"
     ]
    },
    {
     "name": "stdout",
     "output_type": "stream",
     "text": [
      "Epoch [33/50], Loss: 0.0181\n"
     ]
    },
    {
     "name": "stderr",
     "output_type": "stream",
     "text": [
      "100%|██████████| 973/973 [00:03<00:00, 253.26it/s]\n"
     ]
    },
    {
     "name": "stdout",
     "output_type": "stream",
     "text": [
      "Epoch [34/50], Loss: 0.0181\n"
     ]
    },
    {
     "name": "stderr",
     "output_type": "stream",
     "text": [
      "100%|██████████| 973/973 [00:03<00:00, 260.32it/s]\n"
     ]
    },
    {
     "name": "stdout",
     "output_type": "stream",
     "text": [
      "Epoch [35/50], Loss: 0.0181\n"
     ]
    },
    {
     "name": "stderr",
     "output_type": "stream",
     "text": [
      "100%|██████████| 973/973 [00:04<00:00, 239.25it/s]\n"
     ]
    },
    {
     "name": "stdout",
     "output_type": "stream",
     "text": [
      "Epoch [36/50], Loss: 0.0180\n"
     ]
    },
    {
     "name": "stderr",
     "output_type": "stream",
     "text": [
      "100%|██████████| 973/973 [00:04<00:00, 234.15it/s]\n"
     ]
    },
    {
     "name": "stdout",
     "output_type": "stream",
     "text": [
      "Epoch [37/50], Loss: 0.0179\n"
     ]
    },
    {
     "name": "stderr",
     "output_type": "stream",
     "text": [
      "100%|██████████| 973/973 [00:04<00:00, 210.37it/s]\n"
     ]
    },
    {
     "name": "stdout",
     "output_type": "stream",
     "text": [
      "Epoch [38/50], Loss: 0.0180\n"
     ]
    },
    {
     "name": "stderr",
     "output_type": "stream",
     "text": [
      "100%|██████████| 973/973 [00:03<00:00, 274.87it/s]\n"
     ]
    },
    {
     "name": "stdout",
     "output_type": "stream",
     "text": [
      "Epoch [39/50], Loss: 0.0181\n"
     ]
    },
    {
     "name": "stderr",
     "output_type": "stream",
     "text": [
      "100%|██████████| 973/973 [00:03<00:00, 268.04it/s]\n"
     ]
    },
    {
     "name": "stdout",
     "output_type": "stream",
     "text": [
      "Epoch [40/50], Loss: 0.0180\n"
     ]
    },
    {
     "name": "stderr",
     "output_type": "stream",
     "text": [
      "100%|██████████| 973/973 [00:03<00:00, 258.59it/s]\n"
     ]
    },
    {
     "name": "stdout",
     "output_type": "stream",
     "text": [
      "Epoch [41/50], Loss: 0.0181\n"
     ]
    },
    {
     "name": "stderr",
     "output_type": "stream",
     "text": [
      "100%|██████████| 973/973 [00:03<00:00, 276.86it/s]\n"
     ]
    },
    {
     "name": "stdout",
     "output_type": "stream",
     "text": [
      "Epoch [42/50], Loss: 0.0179\n"
     ]
    },
    {
     "name": "stderr",
     "output_type": "stream",
     "text": [
      "100%|██████████| 973/973 [00:03<00:00, 253.17it/s]\n"
     ]
    },
    {
     "name": "stdout",
     "output_type": "stream",
     "text": [
      "Epoch [43/50], Loss: 0.0178\n"
     ]
    },
    {
     "name": "stderr",
     "output_type": "stream",
     "text": [
      "100%|██████████| 973/973 [00:04<00:00, 240.92it/s]\n"
     ]
    },
    {
     "name": "stdout",
     "output_type": "stream",
     "text": [
      "Epoch [44/50], Loss: 0.0177\n"
     ]
    },
    {
     "name": "stderr",
     "output_type": "stream",
     "text": [
      "100%|██████████| 973/973 [00:03<00:00, 245.73it/s]\n"
     ]
    },
    {
     "name": "stdout",
     "output_type": "stream",
     "text": [
      "Epoch [45/50], Loss: 0.0180\n"
     ]
    },
    {
     "name": "stderr",
     "output_type": "stream",
     "text": [
      "100%|██████████| 973/973 [00:04<00:00, 227.78it/s]\n"
     ]
    },
    {
     "name": "stdout",
     "output_type": "stream",
     "text": [
      "Epoch [46/50], Loss: 0.0178\n"
     ]
    },
    {
     "name": "stderr",
     "output_type": "stream",
     "text": [
      "100%|██████████| 973/973 [00:04<00:00, 241.33it/s]\n"
     ]
    },
    {
     "name": "stdout",
     "output_type": "stream",
     "text": [
      "Epoch [47/50], Loss: 0.0177\n"
     ]
    },
    {
     "name": "stderr",
     "output_type": "stream",
     "text": [
      "100%|██████████| 973/973 [00:04<00:00, 235.12it/s]\n"
     ]
    },
    {
     "name": "stdout",
     "output_type": "stream",
     "text": [
      "Epoch [48/50], Loss: 0.0177\n"
     ]
    },
    {
     "name": "stderr",
     "output_type": "stream",
     "text": [
      "100%|██████████| 973/973 [00:04<00:00, 214.96it/s]\n"
     ]
    },
    {
     "name": "stdout",
     "output_type": "stream",
     "text": [
      "Epoch [49/50], Loss: 0.0176\n"
     ]
    },
    {
     "name": "stderr",
     "output_type": "stream",
     "text": [
      "100%|██████████| 973/973 [00:03<00:00, 275.52it/s]\n"
     ]
    },
    {
     "name": "stdout",
     "output_type": "stream",
     "text": [
      "Epoch [50/50], Loss: 0.0176\n"
     ]
    },
    {
     "name": "stderr",
     "output_type": "stream",
     "text": [
      "100%|██████████| 400/400 [00:00<00:00, 664.50it/s]\n"
     ]
    },
    {
     "name": "stdout",
     "output_type": "stream",
     "text": [
      "Test Loss: 0.0307\n",
      "training_losses 0.0176311587781969\n"
     ]
    },
    {
     "data": {
      "image/png": "[encoded data removed]",
      "text/plain": [
       "<Figure size 720x360 with 1 Axes>"
      ]
     },
     "metadata": {},
     "output_type": "display_data"
    }
   ],
   "source": [
    "# Define hyperparameters\n",
    "input_dim = train.shape[1]\n",
    "hidden_dim = 64\n",
    "output_dim = 1\n",
    "\n",
    "num_layers = 1\n",
    "lr = 0.001\n",
    "num_epochs = 50\n",
    "\n",
    "model = LSTMModel(input_dim, hidden_dim, output_dim, num_layers).to(device)\n",
    "\n",
    "criterion = nn.MSELoss()\n",
    "optimizer = torch.optim.Adam(model.parameters(), lr=lr)\n",
    "n_steps = 30\n",
    "\n",
    "training_losses = []\n",
    "test_loss = 0\n",
    "for epoch in range(num_epochs):\n",
    "\n",
    "    running_losss = 0.0\n",
    "    count = 1e-9\n",
    "\n",
    "    for i in tqdm(range(n_steps, len(train))):\n",
    "\n",
    "        x = train.iloc[i-n_steps:i].values\n",
    "        y = train.iloc[i].values\n",
    "\n",
    "        # print(x.shape, y.shape)\n",
    "        \n",
    "        x_tensor = torch.tensor(x, dtype=torch.float).unsqueeze(0).to(device)\n",
    "        y_tensor = torch.tensor(y, dtype=torch.float).unsqueeze(0).to(device)\n",
    "        \n",
    "        output = model(x_tensor)\n",
    "        loss = criterion(output, y_tensor)\n",
    "\n",
    "        running_losss += loss.item()\n",
    "        count += 1\n",
    "\n",
    "        optimizer.zero_grad()\n",
    "        loss.backward()\n",
    "        optimizer.step()\n",
    "\n",
    "    training_losses.append(running_losss/count)\n",
    "\n",
    "    print('Epoch [{}/{}], Loss: {:.4f}'.format(epoch+1, num_epochs, running_losss/count))\n",
    "\n",
    "with torch.no_grad():\n",
    "\n",
    "    count = 1e-9\n",
    "\n",
    "    results = []\n",
    "    \n",
    "    for i in tqdm(range(n_steps, len(test))):\n",
    "\n",
    "        x = test.iloc[i-n_steps:i].values\n",
    "        y = test.iloc[i].values\n",
    "\n",
    "        # print(x.shape, y.shape)\n",
    "        \n",
    "        x_tensor = torch.tensor(x, dtype=torch.float).unsqueeze(0).to(device)\n",
    "        y_tensor = torch.tensor(y, dtype=torch.float).unsqueeze(0).to(device)\n",
    "        \n",
    "        output = model(x_tensor)\n",
    "        loss = criterion(output, y_tensor)\n",
    "\n",
    "        test_loss += loss.item()\n",
    "        count += 1\n",
    "\n",
    "        results.append(output.cpu().numpy()[0])\n",
    "\n",
    "    test_predicted = scaler.inverse_transform(results)\n",
    "\n",
    "print('Test Loss: {:.4f}'.format(test_loss/count))\n",
    "print(\"training_losses\", training_losses[-1])\n",
    "\n",
    "plt.figure(figsize=(10,5))\n",
    "plt.plot(training_losses, label=\"Training Loss\")\n",
    "plt.legend()\n",
    "plt.xlabel(\"Epochs\")\n",
    "plt.ylabel(\"Loss\")\n",
    "plt.title(\"Loss vs Epochs\")\n",
    "plt.show()\n"
   ]
  },
  {
   "cell_type": "code",
   "execution_count": null,
   "metadata": {},
   "outputs": [],
   "source": []
  }
 ],
 "metadata": {
  "kernelspec": {
   "display_name": "Python 3",
   "language": "python",
   "name": "python3"
  },
  "language_info": {
   "codemirror_mode": {
    "name": "ipython",
    "version": 3
   },
   "file_extension": ".py",
   "mimetype": "text/x-python",
   "name": "python",
   "nbconvert_exporter": "python",
   "pygments_lexer": "ipython3",
   "version": "3.9.5"
  },
  "orig_nbformat": 4,
  "vscode": {
   "interpreter": {
    "hash": "eb79ba29542c144dd811710a33c3f672d46a730a07e871a5c60f51fcfe992ed4"
   }
  }
 },
 "nbformat": 4,
 "nbformat_minor": 2
}
